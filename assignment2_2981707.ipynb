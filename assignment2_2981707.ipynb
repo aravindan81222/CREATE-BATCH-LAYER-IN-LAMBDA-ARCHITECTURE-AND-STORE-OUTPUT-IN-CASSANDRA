{
 "cells": [
  {
   "cell_type": "code",
   "execution_count": 1,
   "metadata": {},
   "outputs": [],
   "source": [
    "downloadsRDD = sc.textFile(\"file:///home/aravindan81222/datafinal/*.gz\")\n",
    "downloadsRDD = downloadsRDD.map(lambda x: x.split(','))\n",
    "def remove_quotation(x):\n",
    "    return([xx.replace('\"', '') for xx in x])\n",
    "downloadsRDD = downloadsRDD.map(remove_quotation)\n",
    "\n",
    "downloadsDF = spark.createDataFrame(data = downloadsRDD.filter(lambda x:x[0]!='date'),\n",
    "schema = downloadsRDD.filter(lambda x:x[0]=='date').collect()[0])\n",
    "\n",
    "from pyspark.sql.types import DateType, IntegerType\n",
    "downloadsDF = downloadsDF.withColumn(\"date\", downloadsDF[\"date\"].cast(DateType()))\n",
    "downloadsDF = downloadsDF.withColumn(\"size\", downloadsDF[\"size\"].cast(IntegerType()))\n",
    "downloadsDF = downloadsDF.withColumnRenamed(\"r_os\", \"os\")\n",
    "\n",
    "downloadsDF.createOrReplaceTempView('packages')"
   ]
  },
  {
   "cell_type": "code",
   "execution_count": 4,
   "metadata": {},
   "outputs": [
    {
     "name": "stdout",
     "output_type": "stream",
     "text": [
      "+------------+-------+\n",
      "|count(ip_id)|package|\n",
      "+------------+-------+\n",
      "|       38729|ggplot2|\n",
      "+------------+-------+\n",
      "\n"
     ]
    }
   ],
   "source": [
    "#1\n",
    "table1 = spark.sql('select count(ip_id),package from packages where package=\"ggplot2\" group by package')\n",
    "table1.show()\n",
    "table1.registerTempTable(\"table1\")\n",
    "table1 = table1.withColumnRenamed(\"count(ip_id)\", \"total\")\n",
    "table1.select(\"total\",\"package\")\\\n",
    ".write.format(\"org.apache.spark.sql.cassandra\")\\\n",
    ".options(table=\"tableone\", keyspace=\"bdmassignment1\")\\\n",
    ".save(mode=\"append\")"
   ]
  },
  {
   "cell_type": "code",
   "execution_count": 5,
   "metadata": {},
   "outputs": [
    {
     "name": "stdout",
     "output_type": "stream",
     "text": [
      "+------------+-------+-------+\n",
      "|count(ip_id)|country|     os|\n",
      "+------------+-------+-------+\n",
      "|      802562|     US|mingw32|\n",
      "+------------+-------+-------+\n",
      "\n"
     ]
    }
   ],
   "source": [
    "#2\n",
    "table2 = spark.sql('select count(ip_id),country,os from packages group by country,os order by count(ip_id) desc limit 1')\n",
    "table2.show()\n",
    "table2.registerTempTable(\"table2\")\n",
    "table2 = table2.withColumnRenamed(\"count(ip_id)\", \"total\")\n",
    "table2.select(\"total\",\"country\",\"os\")\\\n",
    ".write.format(\"org.apache.spark.sql.cassandra\")\\\n",
    ".options(table=\"tabletwo\", keyspace=\"bdmassignment1\")\\\n",
    ".save(mode=\"append\")"
   ]
  },
  {
   "cell_type": "code",
   "execution_count": 10,
   "metadata": {},
   "outputs": [
    {
     "name": "stdout",
     "output_type": "stream",
     "text": [
      "+---------+---------+\n",
      "|  package|     size|\n",
      "+---------+---------+\n",
      "|      h2o|122267950|\n",
      "|     Boom| 79127753|\n",
      "|TCGA2STAT| 68736856|\n",
      "|      AWR| 63215126|\n",
      "|       sf| 52423415|\n",
      "|    rgdal| 39231992|\n",
      "|   BANOVA| 35431648|\n",
      "|   vapour| 31831792|\n",
      "|     apcf| 30993471|\n",
      "|   OpenMx| 30562453|\n",
      "+---------+---------+\n",
      "\n"
     ]
    }
   ],
   "source": [
    "#3\n",
    "table3 = spark.sql('SELECT package,size FROM ( SELECT package, MAX(size) AS size FROM packages GROUP BY package) t ORDER BY size DESC limit 10')\n",
    "table3.show()\n",
    "table3.registerTempTable(\"table3\")\n",
    "table3.select(\"package\",\"size\")\\\n",
    ".write.format(\"org.apache.spark.sql.cassandra\")\\\n",
    ".options(table=\"tablethree\", keyspace=\"bdmassignment1\")\\\n",
    ".save(mode=\"append\")\n"
   ]
  },
  {
   "cell_type": "code",
   "execution_count": 12,
   "metadata": {},
   "outputs": [
    {
     "name": "stdout",
     "output_type": "stream",
     "text": [
      "+--------------+-------+\n",
      "|count(package)|package|\n",
      "+--------------+-------+\n",
      "|         55592|  rlang|\n",
      "|         50448|   Rcpp|\n",
      "|         45020| tibble|\n",
      "|         40948| pillar|\n",
      "|         39443|  dplyr|\n",
      "|         39439|stringr|\n",
      "|         39063|     R6|\n",
      "|         38729|ggplot2|\n",
      "|         38422|   yaml|\n",
      "|         37598|  fansi|\n",
      "+--------------+-------+\n",
      "\n"
     ]
    }
   ],
   "source": [
    "#4\n",
    "table4 = spark.sql('select count(package),package from packages group by package order by count(package) desc limit 10')\n",
    "table4.show()\n",
    "table4.registerTempTable(\"table4\")\n",
    "table4 = table4.withColumnRenamed(\"count(package)\", \"total\")\n",
    "table4.select(\"total\",\"package\")\\\n",
    ".write.format(\"org.apache.spark.sql.cassandra\")\\\n",
    ".options(table=\"tablefour\", keyspace=\"bdmassignment1\")\\\n",
    ".save(mode=\"append\")\n",
    "\n",
    "\n",
    "\n"
   ]
  },
  {
   "cell_type": "code",
   "execution_count": 14,
   "metadata": {},
   "outputs": [
    {
     "name": "stdout",
     "output_type": "stream",
     "text": [
      "+------------+--------+\n",
      "|count(ip_id)|    time|\n",
      "+------------+--------+\n",
      "|        1164|06:22:40|\n",
      "+------------+--------+\n",
      "\n"
     ]
    }
   ],
   "source": [
    "#5\n",
    "table5 = spark.sql('select count(ip_id),time from packages group by time order by count(ip_id) desc limit 1')\n",
    "table5.show()\n",
    "table5.registerTempTable(\"table5\")\n",
    "table5 = table5.withColumnRenamed(\"count(ip_id)\", \"total\")\n",
    "table5.select(\"total\",\"time\")\\\n",
    ".write.format(\"org.apache.spark.sql.cassandra\")\\\n",
    ".options(table=\"tablefive\", keyspace=\"bdmassignment1\")\\\n",
    ".save(mode=\"append\")\n",
    "\n",
    "\n",
    "\n",
    "\n"
   ]
  },
  {
   "cell_type": "code",
   "execution_count": 17,
   "metadata": {},
   "outputs": [
    {
     "name": "stdout",
     "output_type": "stream",
     "text": [
      "+------------+----------------+\n",
      "|count(ip_id)|         package|\n",
      "+------------+----------------+\n",
      "|         167|         TH.data|\n",
      "|         120|    RcppParallel|\n",
      "|           1|            RSSL|\n",
      "|           1|           rtson|\n",
      "|           1|RYandexTranslate|\n",
      "+------------+----------------+\n",
      "\n"
     ]
    }
   ],
   "source": [
    "#6\n",
    "table6 = spark.sql('select count(ip_id),package from packages where country=\"GB\" group by package limit 5')\n",
    "table6.show()\n",
    "table6.registerTempTable(\"table6\")\n",
    "table6 = table6.withColumnRenamed(\"count(ip_id)\", \"total\")\n",
    "table6.select(\"total\",\"package\")\\\n",
    ".write.format(\"org.apache.spark.sql.cassandra\")\\\n",
    ".options(table=\"tablesix\", keyspace=\"bdmassignment1\")\\\n",
    ".save(mode=\"append\")"
   ]
  },
  {
   "cell_type": "code",
   "execution_count": 19,
   "metadata": {},
   "outputs": [
    {
     "name": "stdout",
     "output_type": "stream",
     "text": [
      "+------------+-----+\n",
      "|count(ip_id)|ip_id|\n",
      "+------------+-----+\n",
      "|      228763|    8|\n",
      "|      187698|   18|\n",
      "|      164673|   38|\n",
      "|       19272| 3007|\n",
      "|       18803|    1|\n",
      "+------------+-----+\n",
      "\n"
     ]
    }
   ],
   "source": [
    "#7\n",
    "table7 = spark.sql('select count(ip_id),ip_id from packages group by ip_id order by count(ip_id) desc limit 5')\n",
    "table7.show()\n",
    "table7.registerTempTable(\"table7\")\n",
    "table7 = table7.withColumnRenamed(\"count(ip_id)\", \"total\")\n",
    "table7.select(\"total\",\"ip_id\")\\\n",
    ".write.format(\"org.apache.spark.sql.cassandra\")\\\n",
    ".options(table=\"tableseven\", keyspace=\"bdmassignment1\")\\\n",
    ".save(mode=\"append\")"
   ]
  },
  {
   "cell_type": "code",
   "execution_count": 20,
   "metadata": {},
   "outputs": [
    {
     "name": "stdout",
     "output_type": "stream",
     "text": [
      "+------------+------------+\n",
      "|count(ip_id)|          os|\n",
      "+------------+------------+\n",
      "|     2000498|     mingw32|\n",
      "|     1581058|   linux-gnu|\n",
      "|      454098|darwin15.6.0|\n",
      "+------------+------------+\n",
      "\n"
     ]
    }
   ],
   "source": [
    "#8\n",
    "table8 = spark.sql('select count(ip_id),os from packages group by os order by count(ip_id) desc limit 3')\n",
    "table8.show()\n",
    "table8.registerTempTable(\"table8\")\n",
    "table8 = table8.withColumnRenamed(\"count(ip_id)\", \"total\")\n",
    "table8.select(\"total\",\"os\")\\\n",
    ".write.format(\"org.apache.spark.sql.cassandra\")\\\n",
    ".options(table=\"tableeight\", keyspace=\"bdmassignment1\")\\\n",
    ".save(mode=\"append\")"
   ]
  },
  {
   "cell_type": "code",
   "execution_count": 21,
   "metadata": {},
   "outputs": [
    {
     "name": "stdout",
     "output_type": "stream",
     "text": [
      "+------------+---------------+\n",
      "|count(ip_id)|             os|\n",
      "+------------+---------------+\n",
      "|     2000498|        mingw32|\n",
      "|     1581058|      linux-gnu|\n",
      "|      454098|   darwin15.6.0|\n",
      "|      120588|   darwin13.4.0|\n",
      "|      120413|             NA|\n",
      "|        9407|   darwin18.2.0|\n",
      "|        2410|   darwin17.7.0|\n",
      "|        1883|   darwin16.7.0|\n",
      "|        1871|linux-gnueabihf|\n",
      "|        1661|   darwin17.6.0|\n",
      "|         861|   darwin17.4.0|\n",
      "|         641|   darwin18.0.0|\n",
      "|         338|   darwin11.4.2|\n",
      "|         322|   darwin10.8.0|\n",
      "|         264|   darwin15.5.0|\n",
      "|         222|   darwin17.5.0|\n",
      "|         198|   darwin16.1.0|\n",
      "|         165|   darwin17.3.0|\n",
      "|         147|   darwin14.5.0|\n",
      "|          44|   darwin16.6.0|\n",
      "+------------+---------------+\n",
      "only showing top 20 rows\n",
      "\n"
     ]
    }
   ],
   "source": [
    "#9\n",
    "table9 = spark.sql('select count(ip_id),os from packages group by os order by count(ip_id) desc')\n",
    "table9.show()\n",
    "table9.registerTempTable(\"table9\")\n",
    "table9 = table9.withColumnRenamed(\"count(ip_id)\", \"total\")\n",
    "table9.select(\"total\",\"os\")\\\n",
    ".write.format(\"org.apache.spark.sql.cassandra\")\\\n",
    ".options(table=\"tablenine\", keyspace=\"bdmassignment1\")\\\n",
    ".save(mode=\"append\")"
   ]
  },
  {
   "cell_type": "code",
   "execution_count": 22,
   "metadata": {},
   "outputs": [
    {
     "name": "stdout",
     "output_type": "stream",
     "text": [
      "+------------+-------+\n",
      "|count(ip_id)|country|\n",
      "+------------+-------+\n",
      "|     1776597|     US|\n",
      "|      352318|     NA|\n",
      "|      324601|     CA|\n",
      "|      152275|     DE|\n",
      "|      146479|     GB|\n",
      "|      127671|     IN|\n",
      "|      111794|     HK|\n",
      "|      103439|     JP|\n",
      "|      101058|     CN|\n",
      "|       83768|     FR|\n",
      "|       81804|     ES|\n",
      "|       67038|     NL|\n",
      "|       63396|     AU|\n",
      "|       56621|     CO|\n",
      "|       54046|     CH|\n",
      "|       46061|     MX|\n",
      "|       44640|     IT|\n",
      "|       39300|     BR|\n",
      "|       38021|     KR|\n",
      "|       35978|     PL|\n",
      "+------------+-------+\n",
      "only showing top 20 rows\n",
      "\n"
     ]
    }
   ],
   "source": [
    "#10\n",
    "table10 = spark.sql('select count(ip_id),country from packages group by country order by count(ip_id) desc')\n",
    "table10.show()\n",
    "table10.registerTempTable(\"table10\")\n",
    "table10 = table10.withColumnRenamed(\"count(ip_id)\", \"total\")\n",
    "table10.select(\"total\",\"country\")\\\n",
    ".write.format(\"org.apache.spark.sql.cassandra\")\\\n",
    ".options(table=\"tableten\", keyspace=\"bdmassignment1\")\\\n",
    ".save(mode=\"append\")"
   ]
  },
  {
   "cell_type": "code",
   "execution_count": null,
   "metadata": {},
   "outputs": [],
   "source": []
  }
 ],
 "metadata": {
  "kernelspec": {
   "display_name": "Python 3",
   "language": "python",
   "name": "python3"
  },
  "language_info": {
   "codemirror_mode": {
    "name": "ipython",
    "version": 3
   },
   "file_extension": ".py",
   "mimetype": "text/x-python",
   "name": "python",
   "nbconvert_exporter": "python",
   "pygments_lexer": "ipython3",
   "version": "3.5.2"
  }
 },
 "nbformat": 4,
 "nbformat_minor": 2
}
